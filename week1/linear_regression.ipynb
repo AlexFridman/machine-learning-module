{
 "cells": [
  {
   "cell_type": "code",
   "execution_count": 1,
   "metadata": {
    "collapsed": true
   },
   "outputs": [],
   "source": [
    "import numpy as np\n",
    "import pandas as pd\n",
    "import matplotlib.pyplot as plt\n",
    "\n",
    "%matplotlib inline"
   ]
  },
  {
   "cell_type": "code",
   "execution_count": 2,
   "metadata": {},
   "outputs": [],
   "source": [
    "def load_data():\n",
    "    rows = []\n",
    "    \n",
    "    with open('long_jump_data.txt') as f:\n",
    "        for line in f:\n",
    "            rows.append(map(float, line.strip().split()))\n",
    "            \n",
    "    return pd.DataFrame(rows, columns=['year', 'value'])"
   ]
  },
  {
   "cell_type": "code",
   "execution_count": 3,
   "metadata": {},
   "outputs": [
    {
     "data": {
      "text/html": [
       "<div>\n",
       "<table border=\"1\" class=\"dataframe\">\n",
       "  <thead>\n",
       "    <tr style=\"text-align: right;\">\n",
       "      <th></th>\n",
       "      <th>year</th>\n",
       "      <th>value</th>\n",
       "    </tr>\n",
       "  </thead>\n",
       "  <tbody>\n",
       "    <tr>\n",
       "      <th>0</th>\n",
       "      <td>-4.0</td>\n",
       "      <td>249.750</td>\n",
       "    </tr>\n",
       "    <tr>\n",
       "      <th>1</th>\n",
       "      <td>0.0</td>\n",
       "      <td>282.875</td>\n",
       "    </tr>\n",
       "    <tr>\n",
       "      <th>2</th>\n",
       "      <td>4.0</td>\n",
       "      <td>289.000</td>\n",
       "    </tr>\n",
       "    <tr>\n",
       "      <th>3</th>\n",
       "      <td>8.0</td>\n",
       "      <td>294.500</td>\n",
       "    </tr>\n",
       "    <tr>\n",
       "      <th>4</th>\n",
       "      <td>12.0</td>\n",
       "      <td>299.250</td>\n",
       "    </tr>\n",
       "  </tbody>\n",
       "</table>\n",
       "</div>"
      ],
      "text/plain": [
       "   year    value\n",
       "0  -4.0  249.750\n",
       "1   0.0  282.875\n",
       "2   4.0  289.000\n",
       "3   8.0  294.500\n",
       "4  12.0  299.250"
      ]
     },
     "execution_count": 3,
     "metadata": {},
     "output_type": "execute_result"
    }
   ],
   "source": [
    "df = load_data()\n",
    "df.head()"
   ]
  },
  {
   "cell_type": "code",
   "execution_count": 4,
   "metadata": {},
   "outputs": [],
   "source": [
    "TRAIN_SIZE = 20\n",
    "\n",
    "X, y = df[['year']].as_matrix(), df['value'].values\n",
    "X_train, X_test = X[:TRAIN_SIZE], X[TRAIN_SIZE:]\n",
    "y_train, y_test = y[:TRAIN_SIZE], y[TRAIN_SIZE:]"
   ]
  },
  {
   "cell_type": "code",
   "execution_count": 5,
   "metadata": {},
   "outputs": [
    {
     "data": {
      "text/plain": [
       "<matplotlib.axes._subplots.AxesSubplot at 0x1059ba240>"
      ]
     },
     "execution_count": 5,
     "metadata": {},
     "output_type": "execute_result"
    },
    {
     "data": {
      "image/png": "[encoded data removed]",
      "text/plain": [
       "<matplotlib.figure.Figure at 0x105a302b0>"
      ]
     },
     "metadata": {},
     "output_type": "display_data"
    }
   ],
   "source": [
    "df.plot.scatter('year', 'value')"
   ]
  },
  {
   "cell_type": "code",
   "execution_count": 6,
   "metadata": {
    "collapsed": true
   },
   "outputs": [],
   "source": [
    "def mse(y_true, y_pred):\n",
    "    return np.square(y_true - y_pred).sum() / len(y_true)\n",
    "\n",
    "class LinearRegression:\n",
    "    def __init__(self):\n",
    "        self._w = None\n",
    "        \n",
    "    @staticmethod\n",
    "    def _add_identity_col(X):\n",
    "        identity_col = np.ones((X.shape[0], 1))\n",
    "        return np.hstack((identity_col, X))\n",
    "    \n",
    "    def fit(self, X, y):\n",
    "        X = self._add_identity_col(X)\n",
    "        self._w = np.linalg.inv(X.T.dot(X)).dot(X.T).dot(y)\n",
    "        return self\n",
    "    \n",
    "    def predict(self, X):\n",
    "        X = self._add_identity_col(X)\n",
    "        return X.dot(self._w)"
   ]
  },
  {
   "cell_type": "code",
   "execution_count": 7,
   "metadata": {},
   "outputs": [],
   "source": [
    "def add_polinomial_features(X, degree):\n",
    "    cols = [X]\n",
    "    for d in range(2, degree + 1):\n",
    "        cols.append(np.power(X, d))\n",
    "    return np.hstack(cols)"
   ]
  },
  {
   "cell_type": "code",
   "execution_count": 8,
   "metadata": {},
   "outputs": [],
   "source": [
    "test_results = []\n",
    "lines = []\n",
    "\n",
    "for degree in range(1, 6):\n",
    "    X_train_ = add_polinomial_features(X_train, degree)\n",
    "    X_test_ = add_polinomial_features(X_test, degree)\n",
    "    X_ = add_polinomial_features(X, degree)\n",
    "    \n",
    "    lr = LinearRegression().fit(X_train_, y_train)\n",
    "    y_pred = lr.predict(X_test_)\n",
    "    test_results.append({'degree': degree, 'mse': mse(y_test, y_pred)})\n",
    "    \n",
    "    lines.append({'degree': degree, 'ys': lr.predict(X_)})"
   ]
  },
  {
   "cell_type": "code",
   "execution_count": 9,
   "metadata": {},
   "outputs": [
    {
     "data": {
      "text/html": [
       "<div>\n",
       "<table border=\"1\" class=\"dataframe\">\n",
       "  <thead>\n",
       "    <tr style=\"text-align: right;\">\n",
       "      <th></th>\n",
       "      <th>degree</th>\n",
       "      <th>mse</th>\n",
       "    </tr>\n",
       "  </thead>\n",
       "  <tbody>\n",
       "    <tr>\n",
       "      <th>0</th>\n",
       "      <td>1</td>\n",
       "      <td>89.342075</td>\n",
       "    </tr>\n",
       "    <tr>\n",
       "      <th>1</th>\n",
       "      <td>2</td>\n",
       "      <td>45.022295</td>\n",
       "    </tr>\n",
       "    <tr>\n",
       "      <th>2</th>\n",
       "      <td>3</td>\n",
       "      <td>1147.460321</td>\n",
       "    </tr>\n",
       "    <tr>\n",
       "      <th>3</th>\n",
       "      <td>4</td>\n",
       "      <td>2374.262115</td>\n",
       "    </tr>\n",
       "    <tr>\n",
       "      <th>4</th>\n",
       "      <td>5</td>\n",
       "      <td>15.995285</td>\n",
       "    </tr>\n",
       "  </tbody>\n",
       "</table>\n",
       "</div>"
      ],
      "text/plain": [
       "   degree          mse\n",
       "0       1    89.342075\n",
       "1       2    45.022295\n",
       "2       3  1147.460321\n",
       "3       4  2374.262115\n",
       "4       5    15.995285"
      ]
     },
     "execution_count": 9,
     "metadata": {},
     "output_type": "execute_result"
    }
   ],
   "source": [
    "test_results_df = pd.DataFrame(test_results)\n",
    "test_results_df"
   ]
  },
  {
   "cell_type": "code",
   "execution_count": 10,
   "metadata": {},
   "outputs": [
    {
     "data": {
      "image/png": "[encoded data removed]",
      "text/plain": [
       "<matplotlib.figure.Figure at 0x105ae77f0>"
      ]
     },
     "metadata": {},
     "output_type": "display_data"
    }
   ],
   "source": [
    "def plot_lines():\n",
    "    df.plot.scatter('year', 'value')\n",
    "    for line in lines:\n",
    "        plt.plot(X[:, 0], line['ys'], label=line['degree'])\n",
    "    plt.legend()\n",
    "        \n",
    "plot_lines()"
   ]
  }
 ],
 "metadata": {
  "kernelspec": {
   "display_name": "Python 3",
   "language": "python",
   "name": "python3"
  },
  "language_info": {
   "codemirror_mode": {
    "name": "ipython",
    "version": 3
   },
   "file_extension": ".py",
   "mimetype": "text/x-python",
   "name": "python",
   "nbconvert_exporter": "python",
   "pygments_lexer": "ipython3",
   "version": "3.5.1"
  }
 },
 "nbformat": 4,
 "nbformat_minor": 2
}
